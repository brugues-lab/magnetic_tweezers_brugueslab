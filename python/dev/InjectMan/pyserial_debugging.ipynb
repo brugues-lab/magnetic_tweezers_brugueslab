{
 "cells": [
  {
   "cell_type": "code",
   "execution_count": 1,
   "id": "f710f795",
   "metadata": {},
   "outputs": [],
   "source": [
    "import serial \n",
    "import time"
   ]
  },
  {
   "cell_type": "code",
   "execution_count": 2,
   "id": "82fb279b",
   "metadata": {},
   "outputs": [
    {
     "name": "stdout",
     "output_type": "stream",
     "text": [
      "port opened.\n"
     ]
    }
   ],
   "source": [
    "\n",
    "port = 'COM5'\n",
    "baudrate = 19200\n",
    "\n",
    "# Open serial port:\n",
    "injectMan = serial.Serial(port, baudrate, timeout=.1)\n",
    "time.sleep(2)\n",
    "\n",
    "print('port opened.')"
   ]
  },
  {
   "cell_type": "code",
   "execution_count": 157,
   "id": "dfaf8b1d",
   "metadata": {},
   "outputs": [
    {
     "name": "stdout",
     "output_type": "stream",
     "text": [
      "----> b'A001\\n'\n",
      "----> b'c002\\n'\n",
      "----> b'c003\\n'\n",
      "----> b'c004\\n'\n",
      "----> b'c005\\n'\n",
      "----> b'c006\\n'\n",
      "----> b'c007\\n'\n",
      "----> b'c008\\n'\n",
      "----> b'c009\\n'\n",
      "----> b'A001\\n'\n",
      "----> b'c002\\n'\n",
      "----> b'c003\\n'\n",
      "----> b'c004\\n'\n",
      "----> b'c005\\n'\n",
      "----> b'c006\\n'\n",
      "----> b'c007\\n'\n",
      "----> b'c008\\n'\n",
      "----> b'c009\\n'\n"
     ]
    }
   ],
   "source": [
    "data = injectMan.readline()\n",
    "while data:\n",
    "#     print('out_waiting:', injectMan.out_waiting)\n",
    "#     print('in_waiting:', injectMan.in_waiting)\n",
    "    print('---->', data)\n",
    "    # print(data)\n",
    "    data = injectMan.readline()\n",
    "j = 1"
   ]
  },
  {
   "cell_type": "code",
   "execution_count": 46,
   "id": "a2d3a34a",
   "metadata": {},
   "outputs": [
    {
     "data": {
      "text/plain": [
       "5"
      ]
     },
     "execution_count": 46,
     "metadata": {},
     "output_type": "execute_result"
    }
   ],
   "source": [
    "j += 1\n",
    "stringToSend = f'c00{j}\\n'\n",
    "injectMan.write(str.encode(stringToSend))"
   ]
  },
  {
   "cell_type": "code",
   "execution_count": 156,
   "id": "923b12be",
   "metadata": {},
   "outputs": [],
   "source": [
    "for i in range(1, 10):\n",
    "    stringToSend = f'c00{i}\\n'\n",
    "    injectMan.write(str.encode(stringToSend))\n",
    "#     print('out_waiting:', injectMan.out_waiting)\n",
    "#     print('in_waiting:', injectMan.in_waiting)\n",
    "#     time.sleep(0.015)"
   ]
  },
  {
   "cell_type": "code",
   "execution_count": 167,
   "id": "f228b0e2",
   "metadata": {},
   "outputs": [
    {
     "name": "stdout",
     "output_type": "stream",
     "text": [
      "done flushing\n",
      "----> b'A001\\n' (t = 0.030208349227905273)\n"
     ]
    }
   ],
   "source": [
    "####################\n",
    "# Echo test:\n",
    "data = injectMan.readline()\n",
    "while data:\n",
    "#     print('out_waiting:', injectMan.out_waiting)\n",
    "#     print('in_waiting:', injectMan.in_waiting)\n",
    "    print('---->', data)\n",
    "    # print(data)\n",
    "    data = injectMan.readline()\n",
    "print('done flushing')\n",
    "\n",
    "\n",
    "i = 1\n",
    "stringToSend = f'c00{i}\\n'\n",
    "t0 = time.time()\n",
    "injectMan.write(str.encode(stringToSend))\n",
    "# print('out_waiting:', injectMan.out_waiting)\n",
    "# print('in_waiting:', injectMan.in_waiting)\n",
    "# time.sleep(0.015)\n",
    "    \n",
    "data = injectMan.readline()\n",
    "while data:\n",
    "#     print('out_waiting:', injectMan.out_waiting)\n",
    "#     print('in_waiting:', injectMan.in_waiting)\n",
    "    print('---->', data, f'(t = {time.time() - t0})')\n",
    "    # print(data)\n",
    "    data = injectMan.readline()"
   ]
  },
  {
   "cell_type": "code",
   "execution_count": 84,
   "id": "e6a64983",
   "metadata": {},
   "outputs": [],
   "source": [
    "td_accumulator = []"
   ]
  },
  {
   "cell_type": "code",
   "execution_count": 106,
   "id": "ebceb142",
   "metadata": {},
   "outputs": [
    {
     "name": "stdout",
     "output_type": "stream",
     "text": [
      "[0.014701837812499997, 0.014701837812499997, 0.014701837812499997, 0.014701837812499997, 0.014943441886631926, 0.014913045566511839, 0.014913045566511839, 0.015019767814690733, 0.014914629439987897, 0.015888, 0.015776784, 0.015776784, 0.014914629439987897, 0.015125647346113527]\n",
      "min - max\n",
      "0.014701837812499997 0.015888\n"
     ]
    }
   ],
   "source": [
    "print(td_accumulator)\n",
    "print('min - max')\n",
    "print(min(td_accumulator), max(td_accumulator))\n",
    "\n",
    "'''\n",
    "# Testing of the delay that has to be used for the commands to behave propperly (so not to get the send command\n",
    "as a recieved message).\n",
    "\n",
    "Results were: (in s)\n",
    "[0.014701837812499997, 0.014701837812499997, 0.014701837812499997, 0.014701837812499997, 0.014943441886631926, 0.014913045566511839, 0.014913045566511839, 0.015019767814690733, 0.014914629439987897, 0.015888, 0.015776784, 0.015776784, 0.014914629439987897, 0.015125647346113527]\n",
    "min - max\n",
    "0.014701837812499997 0.015888\n",
    "'''"
   ]
  },
  {
   "cell_type": "code",
   "execution_count": 127,
   "id": "0c74535d",
   "metadata": {
    "scrolled": true
   },
   "outputs": [
    {
     "name": "stdout",
     "output_type": "stream",
     "text": [
      "End of flushing --------------\n",
      "[0.03, 0.024, 0.019200000000000002, 0.015360000000000002, 0.012288000000000002, 0.009830400000000003, 0.007864320000000003, 0.0062914560000000026, 0.005033164800000003, 0.004026531840000003, 0.0032212254720000023, 0.002576980377600002, 0.0020615843020800016, 0.0016492674416640014, 0.0013194139533312013, 0.001055531162664961, 0.0008444249301319689, 0.0006755399441055751, 0.0005404319552844601, 0.0004323455642275681, 0.0003458764513820545, 0.0002767011611056436, 0.0002213609288845149, 0.00017708874310761193, 0.00014167099448608955, 0.00011333679558887165, 9.066943647109732e-05, 7.253554917687786e-05, 5.802843934150229e-05, 4.642275147320184e-05, 3.7138201178561476e-05]\n",
      "t_delay: 0.03\n",
      "out_waiting: 0\n",
      "out_waiting: 0\n",
      "out_waiting: 0\n",
      "out_waiting: 0\n",
      "----> b'A1\\n'\n",
      "----> b'A2\\n'\n",
      "----> b'A3\\n'\n",
      "----> b'A4\\n'\n",
      "t_delay: 0.024\n",
      "out_waiting: 0\n",
      "out_waiting: 0\n",
      "out_waiting: 0\n",
      "out_waiting: 0\n",
      "----> b'A1\\n'\n",
      "----> b'A2\\n'\n",
      "----> b'A3\\n'\n",
      "----> b'A4\\n'\n",
      "t_delay: 0.019200000000000002\n",
      "out_waiting: 0\n",
      "out_waiting: 0\n",
      "out_waiting: 0\n",
      "out_waiting: 0\n",
      "----> b'A1\\n'\n",
      "----> b'A2\\n'\n",
      "----> b'A3\\n'\n",
      "----> b'A4\\n'\n",
      "t_delay: 0.015360000000000002\n",
      "out_waiting: 0\n",
      "out_waiting: 0\n",
      "out_waiting: 0\n",
      "out_waiting: 0\n",
      "----> b'A1\\n'\n",
      "----> b'A2\\n'\n",
      "----> b'A3\\n'\n",
      "----> b'A4\\n'\n",
      "t_delay: 0.012288000000000002\n",
      "out_waiting: 0\n",
      "out_waiting: 0\n",
      "out_waiting: 0\n",
      "out_waiting: 0\n",
      "----> b'A1\\n'\n",
      "----> b'C2\\n'\n",
      "----> b'A3\\n'\n",
      "----> b'A4\\n'\n",
      "Failure achieved - at time delay: 0.012288000000000002\n"
     ]
    }
   ],
   "source": [
    "# Flush:\n",
    "data = injectMan.readline()\n",
    "while data:\n",
    "    print('---->', data)\n",
    "    data = injectMan.readline()\n",
    "print('End of flushing --------------')\n",
    "\n",
    "# Test the minimum time (after write) that it still works okay:\n",
    "time_delay = 0.1\n",
    "failure_flag = False\n",
    "\n",
    "td = 0.03\n",
    "ts = [td]\n",
    "for j in range(30):\n",
    "    ts.append(ts[-1]*0.8)\n",
    "print(ts)\n",
    "\n",
    "for t_delay in ts:\n",
    "    print('t_delay:', t_delay)\n",
    "\n",
    "    for i in range(1, 5):\n",
    "        print('out_waiting:', injectMan.out_waiting)\n",
    "        stringToSend = f'C{i}\\n'\n",
    "        injectMan.write(str.encode(stringToSend))\n",
    "        time.sleep(t_delay)\n",
    "        \n",
    "    time.sleep(0.1)\n",
    "    data = injectMan.readline()\n",
    "    while data:\n",
    "        print('---->', data)\n",
    "        if data.decode()[0] == 'C':\n",
    "            failure_flag = True\n",
    "        # print(data)\n",
    "        data = injectMan.readline()\n",
    "    if failure_flag:\n",
    "        print(f'Failure achieved - at time delay: {t_delay}')\n",
    "        td_accumulator.append(t_delay)\n",
    "        break\n"
   ]
  }
 ],
 "metadata": {
  "kernelspec": {
   "display_name": "Python 3 (ipykernel)",
   "language": "python",
   "name": "python3"
  },
  "language_info": {
   "codemirror_mode": {
    "name": "ipython",
    "version": 3
   },
   "file_extension": ".py",
   "mimetype": "text/x-python",
   "name": "python",
   "nbconvert_exporter": "python",
   "pygments_lexer": "ipython3",
   "version": "3.8.0"
  }
 },
 "nbformat": 4,
 "nbformat_minor": 5
}
