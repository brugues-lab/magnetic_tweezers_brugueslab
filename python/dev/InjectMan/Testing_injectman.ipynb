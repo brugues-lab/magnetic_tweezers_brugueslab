{
 "cells": [
  {
   "cell_type": "code",
   "execution_count": null,
   "id": "70bd55e4",
   "metadata": {},
   "outputs": [],
   "source": [
    "'''\n",
    "Left off notes (27.7.22, Erik):\n",
    "- qurey position doesn't give x,y,z, but motor positions (which is different than x,y, z\n",
    "values on the injectman controller display.)\n",
    "- TODO: check how it works with the goto position - what positions come throug\n",
    "- TODO: implement the math so that you get the same (in the +- few micro meters) x,y,z values\n",
    "on both (python and controller), and that it works for both query and goto.\n",
    "- TODO: finish the injectman class (implement all the functionallities)\n",
    "- AFTER: think about the mag tweezers class, that uses injectman (and voltage control)\n",
    "and how you want it to behave.\n",
    "'''"
   ]
  },
  {
   "cell_type": "code",
   "execution_count": null,
   "id": "2c0ed3eb",
   "metadata": {},
   "outputs": [],
   "source": [
    "# Run the cell below if you want to have output of the cells on their side\n",
    "# reload the page to get back to the default way.\n",
    "# You can edit background colors below (change the hex #RGB values)\n",
    "# Taken from:\n",
    "# https://github.com/jupyter/notebook/issues/2897#issuecomment-442959381"
   ]
  },
  {
   "cell_type": "code",
   "execution_count": null,
   "id": "54436364",
   "metadata": {},
   "outputs": [],
   "source": [
    "%%html\n",
    "<style>\n",
    "#notebook-container {\n",
    "    width: 100%;\n",
    "    background-color: #111\n",
    "}\n",
    "\n",
    ".code_cell {\n",
    "   flex-direction: row !important;\n",
    "}\n",
    "\n",
    ".code_cell .output_wrapper {\n",
    "    width: 50%;\n",
    "    background-color: #333\n",
    "}\n",
    "\n",
    ".code_cell .input {\n",
    "    width: 50%;\n",
    "    background-color: #222\n",
    "}\n",
    "</style>"
   ]
  },
  {
   "cell_type": "code",
   "execution_count": 1,
   "id": "2091dc7f",
   "metadata": {},
   "outputs": [
    {
     "name": "stdout",
     "output_type": "stream",
     "text": [
      "C:\\Users\\Erik\\AppData\\Local\\pypoetry\\Cache\\virtualenvs\\magnetictweezers-UChrRnZF-py3.8\\Scripts\\python.exe\n"
     ]
    }
   ],
   "source": [
    "# import serial_connection\n",
    "# import serial\n",
    "import sys \n",
    "print(sys.executable)"
   ]
  },
  {
   "cell_type": "code",
   "execution_count": 1,
   "id": "38a00841",
   "metadata": {},
   "outputs": [
    {
     "name": "stderr",
     "output_type": "stream",
     "text": [
      "INFO:root:Serial opened on port COM5 with baud rate 19200\n"
     ]
    },
    {
     "name": "stdout",
     "output_type": "stream",
     "text": [
      "flushing...\n",
      "b'string_echo\\r\\n'\n",
      "time: 0.001995086669921875 s\n",
      "b''\n",
      "time: 0.10167622566223145 s\n",
      "b''\n",
      "time: 0.1099236011505127 s\n",
      "b''\n",
      "time: 0.10765385627746582 s\n",
      "b''\n",
      "time: 0.10828971862792969 s\n",
      "heeej\n"
     ]
    },
    {
     "name": "stderr",
     "output_type": "stream",
     "text": [
      "DEBUG:root:In send_string(): Encoded string: b'c001\\n'\n",
      "DEBUG:root:Answer is: b'A001\\n'\n",
      "DEBUG:root:Answer decoded and stripped: \"A001\"\n"
     ]
    },
    {
     "data": {
      "text/plain": [
       "'A001'"
      ]
     },
     "execution_count": 1,
     "metadata": {},
     "output_type": "execute_result"
    }
   ],
   "source": [
    "try:\n",
    "    sc.serial.close()\n",
    "except:\n",
    "    pass\n",
    "\n",
    "import logging\n",
    "import time\n",
    "\n",
    "import serial_connection\n",
    "\n",
    "# To autoreload imported libraries:    \n",
    "%load_ext autoreload\n",
    "%autoreload 2\n",
    "\n",
    "logging.basicConfig(level=logging.DEBUG)\n",
    "\n",
    "using_Arduino_to_fake_injectman = True\n",
    "if using_Arduino_to_fake_injectman:\n",
    "    sc = serial_connection.serialConnection(port='COM5', baud_rate=19200)\n",
    "else:\n",
    "    sc = serial_connection.serialConnection(port='COM1', baud_rate=19200)\n",
    "\n",
    "\n",
    "# a = \"bla bla\"\n",
    "# c = f\"krneki {a}\"\n",
    "# b = 5\n",
    "\n",
    "\n",
    "# print(f'sdd')\n",
    "\n",
    "\n",
    "print('flushing...')\n",
    "for i in range(5):\n",
    "    t1 = time.time()\n",
    "    print(sc.serial.readline())\n",
    "    t2 = time.time()\n",
    "    print(f\"time: {t2-t1} s\")\n",
    "    \n",
    "\n",
    "print('heeej')\n",
    "\n",
    "sc.send_string('c001', wait_for_answer=True)\n"
   ]
  },
  {
   "cell_type": "code",
   "execution_count": 3,
   "id": "41e87fe2",
   "metadata": {},
   "outputs": [
    {
     "name": "stdout",
     "output_type": "stream",
     "text": [
      "flushing...\n",
      "b'A8\\n'\n",
      "time: 0.0009646415710449219 s\n",
      "b'c9\\n'\n",
      "time: 0.0 s\n",
      "b''\n",
      "time: 0.11117839813232422 s\n",
      "b''\n",
      "time: 0.10919189453125 s\n",
      "b''\n",
      "time: 0.10850858688354492 s\n"
     ]
    },
    {
     "name": "stderr",
     "output_type": "stream",
     "text": [
      "DEBUG:root:In send_string(): Encoded string: b'c100\\n'\n",
      "DEBUG:root:In send_string(): Encoded string: b'c200\\n'\n",
      "DEBUG:root:In send_string(): Encoded string: b'c1\\n'\n",
      "DEBUG:root:Answer is: b'A100\\n'\n",
      "DEBUG:root:Answer decoded and stripped: \"A100\"\n",
      "DEBUG:root:In send_string(): Encoded string: b'c2\\n'\n",
      "DEBUG:root:Answer is: b'c200\\n'\n",
      "DEBUG:root:Answer decoded and stripped: \"c200\"\n",
      "DEBUG:root:In send_string(): Encoded string: b'c3\\n'\n",
      "DEBUG:root:Answer is: b'c1\\n'\n",
      "DEBUG:root:Answer decoded and stripped: \"c1\"\n",
      "DEBUG:root:In send_string(): Encoded string: b'c4\\n'\n",
      "DEBUG:root:Answer is: b'A2\\n'\n",
      "DEBUG:root:Answer decoded and stripped: \"A2\"\n",
      "DEBUG:root:In send_string(): Encoded string: b'c5\\n'\n",
      "DEBUG:root:Answer is: b'c3\\n'\n",
      "DEBUG:root:Answer decoded and stripped: \"c3\"\n",
      "DEBUG:root:In send_string(): Encoded string: b'c6\\n'\n",
      "DEBUG:root:Answer is: b'c4\\n'\n",
      "DEBUG:root:Answer decoded and stripped: \"c4\"\n",
      "DEBUG:root:In send_string(): Encoded string: b'c7\\n'\n",
      "DEBUG:root:Answer is: b'A5\\n'\n"
     ]
    },
    {
     "name": "stdout",
     "output_type": "stream",
     "text": [
      "using the \"normal\" readline\n",
      "A100\n",
      "using the \"normal\" readline\n",
      "c200\n",
      "using the \"normal\" readline\n",
      "c1\n",
      "using the \"normal\" readline\n",
      "A2\n",
      "using the \"normal\" readline\n",
      "c3\n",
      "using the \"normal\" readline\n",
      "c4\n",
      "using the \"normal\" readline\n"
     ]
    },
    {
     "name": "stderr",
     "output_type": "stream",
     "text": [
      "DEBUG:root:Answer decoded and stripped: \"A5\"\n",
      "DEBUG:root:In send_string(): Encoded string: b'c8\\n'\n",
      "DEBUG:root:Answer is: b'c6\\n'\n",
      "DEBUG:root:Answer decoded and stripped: \"c6\"\n",
      "DEBUG:root:In send_string(): Encoded string: b'c9\\n'\n",
      "DEBUG:root:Answer is: b'c7\\n'\n",
      "DEBUG:root:Answer decoded and stripped: \"c7\"\n"
     ]
    },
    {
     "name": "stdout",
     "output_type": "stream",
     "text": [
      "A5\n",
      "using the \"normal\" readline\n",
      "c6\n",
      "using the \"normal\" readline\n",
      "c7\n"
     ]
    }
   ],
   "source": [
    "print('flushing...')\n",
    "for i in range(5):\n",
    "    t1 = time.time()\n",
    "    print(sc.serial.readline())\n",
    "    t2 = time.time()\n",
    "    print(f\"time: {t2-t1} s\")\n",
    "time.sleep(0.5)\n",
    "    \n",
    "sc.send_string('c100', wait_for_answer=False)\n",
    "sc.send_string('c200', wait_for_answer=False)\n",
    "for i in range(1, 10):\n",
    "    a = sc.send_string(f'c{i}', wait_for_answer=True)\n",
    "    print(a)"
   ]
  },
  {
   "cell_type": "code",
   "execution_count": 10,
   "id": "bf5d9cf8",
   "metadata": {},
   "outputs": [
    {
     "name": "stderr",
     "output_type": "stream",
     "text": [
      "DEBUG:root:In send_string(): Encoded string: b'c014 1\\n'\n",
      "DEBUG:root:Answer is: bytearray(b'A014 1\\n')\n",
      "DEBUG:root:Answer decoded and stripped: \"A014 1\"\n"
     ]
    },
    {
     "name": "stdout",
     "output_type": "stream",
     "text": [
      "A014 1\n"
     ]
    }
   ],
   "source": [
    "a = sc.send_string('c014 1', wait_for_answer=True)\n",
    "print(a)"
   ]
  },
  {
   "cell_type": "markdown",
   "id": "bae86a7a",
   "metadata": {},
   "source": [
    "# -------------------------------------------------------------------------\n",
    "# --------------------------------------------------------------------------\n",
    "# Testing of the injectman object:"
   ]
  },
  {
   "cell_type": "code",
   "execution_count": 1,
   "id": "6d49181b",
   "metadata": {},
   "outputs": [
    {
     "name": "stderr",
     "output_type": "stream",
     "text": [
      "INFO:root:InjectMan initialization...\n",
      "INFO:root:Serial opened on port COM5 with baud rate 19200\n",
      "INFO:root:InjectMan init done. is_simulated = False\n"
     ]
    }
   ],
   "source": [
    "try:\n",
    "    if sc.serial.isOpen():\n",
    "        sc.serial.close()\n",
    "        print('sc.serial closed in the try block.')\n",
    "except:\n",
    "    pass\n",
    "try:\n",
    "    if im.serial_connection.serial.isOpen():\n",
    "        im.serial_connection.serial.close()\n",
    "        print('im.serial closed in the try block.')\n",
    "except:\n",
    "    pass\n",
    "\n",
    "import logging\n",
    "import time\n",
    "\n",
    "import inject_man\n",
    "\n",
    "# To autoreload imported libraries:    \n",
    "%load_ext autoreload\n",
    "%autoreload 2\n",
    "\n",
    "logging.basicConfig(level=logging.DEBUG)\n",
    "\n",
    "\n",
    "\n",
    "\n",
    "using_Arduino_to_fake_injectman = True\n",
    "if using_Arduino_to_fake_injectman:\n",
    "    im = inject_man.InjectMan(port='COM5')\n",
    "else:\n",
    "    im = inject_man.InjectMan()\n",
    "\n",
    "    "
   ]
  },
  {
   "cell_type": "code",
   "execution_count": 2,
   "id": "92213919",
   "metadata": {},
   "outputs": [
    {
     "name": "stderr",
     "output_type": "stream",
     "text": [
      "DEBUG:root:in send_command_serial(): sending \"C001\" to serial on port COM5.\n",
      "DEBUG:root:In send_string(): Encoded string: b'C001\\n'\n",
      "DEBUG:root:Answer is: bytearray(b'string_echo\\r\\n')\n",
      "DEBUG:root:Answer decoded and stripped: \"string_echo\"\n",
      "DEBUG:root:in call_command_code:\n",
      "\tcommand: C001\n",
      "\t anwser: string_echo\n",
      "DEBUG:root:in send_command_serial(): sending \"C005\" to serial on port COM5.\n",
      "DEBUG:root:In send_string(): Encoded string: b'C005\\n'\n",
      "DEBUG:root:Answer is: bytearray(b'A001\\n')\n",
      "DEBUG:root:Answer decoded and stripped: \"A001\"\n",
      "DEBUG:root:in call_command_code:\n",
      "\tcommand: C005\n",
      "\t anwser: A001\n",
      "DEBUG:root:in send_command_serial(): sending \"C001\" to serial on port COM5.\n",
      "DEBUG:root:In send_string(): Encoded string: b'C001\\n'\n",
      "DEBUG:root:Answer is: bytearray(b'C005\\n')\n",
      "DEBUG:root:Answer decoded and stripped: \"C005\"\n",
      "DEBUG:root:in call_command_code:\n",
      "\tcommand: C001\n",
      "\t anwser: C005\n",
      "DEBUG:root:in send_command_serial(): sending \"C005\" to serial on port COM5.\n",
      "DEBUG:root:In send_string(): Encoded string: b'C005\\n'\n",
      "DEBUG:root:Answer is: bytearray(b'A001\\n')\n",
      "DEBUG:root:Answer decoded and stripped: \"A001\"\n",
      "DEBUG:root:in call_command_code:\n",
      "\tcommand: C005\n",
      "\t anwser: A001\n",
      "DEBUG:root:in send_command_serial(): sending \"C010\" to serial on port COM5.\n",
      "DEBUG:root:In send_string(): Encoded string: b'C010\\n'\n",
      "DEBUG:root:Answer is: bytearray(b'C005\\n')\n",
      "DEBUG:root:Answer decoded and stripped: \"C005\"\n",
      "DEBUG:root:in call_command_code:\n",
      "\tcommand: C010\n",
      "\t anwser: C005\n"
     ]
    },
    {
     "ename": "Exception",
     "evalue": "Expecting the first character of the answer_string to be 'a' or 'A'. \n\t\t\t\t\t\t\t\rOtherwise this is not a complete answer string. answer_string I got: 'C005'",
     "output_type": "error",
     "traceback": [
      "\u001b[1;31m---------------------------------------------------------------------------\u001b[0m",
      "\u001b[1;31mException\u001b[0m                                 Traceback (most recent call last)",
      "Input \u001b[1;32mIn [2]\u001b[0m, in \u001b[0;36m<cell line: 9>\u001b[1;34m()\u001b[0m\n\u001b[0;32m      7\u001b[0m im\u001b[38;5;241m.\u001b[39mswitch_to_manual_control()\n\u001b[0;32m      8\u001b[0m \u001b[38;5;66;03m# im.trigger_short_acoustic_signals(3)\u001b[39;00m\n\u001b[1;32m----> 9\u001b[0m \u001b[43mim\u001b[49m\u001b[38;5;241;43m.\u001b[39;49m\u001b[43mposition_query_in_micrometers\u001b[49m\u001b[43m(\u001b[49m\u001b[43m)\u001b[49m\n",
      "File \u001b[1;32mD:\\Erik\\Programming\\Projects\\MagneticTweezers\\magnetic_tweezers_brugueslab\\python\\dev\\InjectMan\\inject_man.py:151\u001b[0m, in \u001b[0;36mInjectMan.position_query_in_micrometers\u001b[1;34m(self)\u001b[0m\n\u001b[0;32m    149\u001b[0m command_code \u001b[38;5;241m=\u001b[39m \u001b[38;5;241m10\u001b[39m\n\u001b[0;32m    150\u001b[0m answer_string \u001b[38;5;241m=\u001b[39m \u001b[38;5;28mself\u001b[39m\u001b[38;5;241m.\u001b[39mcall_command_code(command_code)\n\u001b[1;32m--> 151\u001b[0m position, limit_switches \u001b[38;5;241m=\u001b[39m \u001b[38;5;28;43mself\u001b[39;49m\u001b[38;5;241;43m.\u001b[39;49m\u001b[43m_parse_position_query\u001b[49m\u001b[43m(\u001b[49m\u001b[43manswer_string\u001b[49m\u001b[43m)\u001b[49m\n\u001b[0;32m    152\u001b[0m \u001b[38;5;28;01mreturn\u001b[39;00m position, limit_switches\n",
      "File \u001b[1;32mD:\\Erik\\Programming\\Projects\\MagneticTweezers\\magnetic_tweezers_brugueslab\\python\\dev\\InjectMan\\inject_man.py:225\u001b[0m, in \u001b[0;36mInjectMan._parse_position_query\u001b[1;34m(self, answer_string)\u001b[0m\n\u001b[0;32m    222\u001b[0m answer_code \u001b[38;5;241m=\u001b[39m raw_list\u001b[38;5;241m.\u001b[39mpop(\u001b[38;5;241m0\u001b[39m)\n\u001b[0;32m    224\u001b[0m \u001b[38;5;28;01mif\u001b[39;00m \u001b[38;5;129;01mnot\u001b[39;00m answer_code[\u001b[38;5;241m0\u001b[39m] \u001b[38;5;129;01min\u001b[39;00m \u001b[38;5;124m'\u001b[39m\u001b[38;5;124maA\u001b[39m\u001b[38;5;124m'\u001b[39m:\n\u001b[1;32m--> 225\u001b[0m \t\u001b[38;5;28;01mraise\u001b[39;00m \u001b[38;5;167;01mException\u001b[39;00m(\u001b[38;5;124mf\u001b[39m\u001b[38;5;124m\"\"\"\u001b[39m\u001b[38;5;124mExpecting the first character of the answer_string to be \u001b[39m\u001b[38;5;124m'\u001b[39m\u001b[38;5;124ma\u001b[39m\u001b[38;5;124m'\u001b[39m\u001b[38;5;124m or \u001b[39m\u001b[38;5;124m'\u001b[39m\u001b[38;5;124mA\u001b[39m\u001b[38;5;124m'\u001b[39m\u001b[38;5;124m. \u001b[39m\n\u001b[0;32m    226\u001b[0m \u001b[38;5;124m\t\t\t\t\t\u001b[39m\u001b[38;5;130;01m\\r\u001b[39;00m\u001b[38;5;124mOtherwise this is not a complete answer string. answer_string I got: \u001b[39m\u001b[38;5;124m'\u001b[39m\u001b[38;5;132;01m{\u001b[39;00manswer_string\u001b[38;5;132;01m}\u001b[39;00m\u001b[38;5;124m'\u001b[39m\u001b[38;5;124m\"\"\"\u001b[39m)\n\u001b[0;32m    228\u001b[0m \u001b[38;5;66;03m# We expect only numeric parameters in the list\u001b[39;00m\n\u001b[0;32m    229\u001b[0m raw_list \u001b[38;5;241m=\u001b[39m [\u001b[38;5;28mint\u001b[39m(x) \u001b[38;5;28;01mfor\u001b[39;00m x \u001b[38;5;129;01min\u001b[39;00m raw_list]\n",
      "\u001b[1;31mException\u001b[0m: Expecting the first character of the answer_string to be 'a' or 'A'. \n\t\t\t\t\t\t\t\rOtherwise this is not a complete answer string. answer_string I got: 'C005'"
     ]
    }
   ],
   "source": [
    "# im.position_query_in_micrometers()\n",
    "\n",
    "im.query_program_version()\n",
    "im.switch_to_manual_control()\n",
    "\n",
    "im.query_program_version()\n",
    "im.switch_to_manual_control()\n",
    "# im.trigger_short_acoustic_signals(3)\n",
    "im.position_query_in_micrometers()\n"
   ]
  },
  {
   "cell_type": "code",
   "execution_count": 9,
   "id": "aec903b2",
   "metadata": {},
   "outputs": [],
   "source": [
    "def flush():\n",
    "    print('flushing...')\n",
    "    for i in range(5):\n",
    "        t1 = time.time()\n",
    "        print(im.serial_connection.readline())\n",
    "        t2 = time.time()\n",
    "        print(f\"time: {t2-t1} s\")\n",
    "    time.sleep(0.5)"
   ]
  },
  {
   "cell_type": "code",
   "execution_count": 12,
   "id": "a3b52cac",
   "metadata": {},
   "outputs": [
    {
     "name": "stdout",
     "output_type": "stream",
     "text": [
      "flushing...\n",
      "\n",
      "time: 0.11659455299377441 s\n",
      "\n",
      "time: 0.10822486877441406 s\n",
      "\n",
      "time: 0.10891222953796387 s\n",
      "\n",
      "time: 0.10977005958557129 s\n",
      "\n",
      "time: 0.10797786712646484 s\n"
     ]
    },
    {
     "name": "stderr",
     "output_type": "stream",
     "text": [
      "DEBUG:root:in send_command_serial(): sending \"c100\" to serial on port COM5.\n",
      "DEBUG:root:In send_string(): Encoded string: b'c100\\n'\n",
      "DEBUG:root:in send_command_serial(): sending \"B1\" to serial on port COM5.\n",
      "DEBUG:root:In send_string(): Encoded string: b'B1\\n'\n",
      "DEBUG:root:Answer is: bytearray(b'A100\\n')\n",
      "DEBUG:root:Answer decoded and stripped: \"A100\"\n",
      "DEBUG:root:in call_command_code:\n",
      "\tcommand: B1\n",
      "\t anwser: A100\n",
      "DEBUG:root:in send_command_serial(): sending \"B2\" to serial on port COM5.\n",
      "DEBUG:root:In send_string(): Encoded string: b'B2\\n'\n",
      "DEBUG:root:Answer is: bytearray(b'B1\\n')\n",
      "DEBUG:root:Answer decoded and stripped: \"B1\"\n",
      "DEBUG:root:in call_command_code:\n",
      "\tcommand: B2\n",
      "\t anwser: B1\n",
      "DEBUG:root:in send_command_serial(): sending \"B3\" to serial on port COM5.\n",
      "DEBUG:root:In send_string(): Encoded string: b'B3\\n'\n",
      "DEBUG:root:Answer is: bytearray(b'E060\\r\\n')\n",
      "DEBUG:root:Answer decoded and stripped: \"E060\"\n",
      "DEBUG:root:in call_command_code:\n",
      "\tcommand: B3\n",
      "\t anwser: E060\n",
      "DEBUG:root:in send_command_serial(): sending \"B4\" to serial on port COM5.\n",
      "DEBUG:root:In send_string(): Encoded string: b'B4\\n'\n",
      "DEBUG:root:Answer is: bytearray(b'E060\\r\\n')\n",
      "DEBUG:root:Answer decoded and stripped: \"E060\"\n",
      "DEBUG:root:in call_command_code:\n",
      "\tcommand: B4\n",
      "\t anwser: E060\n",
      "DEBUG:root:in send_command_serial(): sending \"B5\" to serial on port COM5.\n",
      "DEBUG:root:In send_string(): Encoded string: b'B5\\n'\n",
      "DEBUG:root:Answer is: bytearray(b'E060\\r\\n')\n",
      "DEBUG:root:Answer decoded and stripped: \"E060\"\n",
      "DEBUG:root:in call_command_code:\n",
      "\tcommand: B5\n",
      "\t anwser: E060\n",
      "DEBUG:root:in send_command_serial(): sending \"B6\" to serial on port COM5.\n",
      "DEBUG:root:In send_string(): Encoded string: b'B6\\n'\n",
      "DEBUG:root:Answer is: bytearray(b'E060\\r\\n')\n",
      "DEBUG:root:Answer decoded and stripped: \"E060\"\n",
      "DEBUG:root:in call_command_code:\n",
      "\tcommand: B6\n",
      "\t anwser: E060\n",
      "DEBUG:root:in send_command_serial(): sending \"B7\" to serial on port COM5.\n",
      "DEBUG:root:In send_string(): Encoded string: b'B7\\n'\n",
      "DEBUG:root:Answer is: bytearray(b'E060\\r\\n')\n",
      "DEBUG:root:Answer decoded and stripped: \"E060\"\n",
      "DEBUG:root:in call_command_code:\n",
      "\tcommand: B7\n",
      "\t anwser: E060\n",
      "DEBUG:root:in send_command_serial(): sending \"B8\" to serial on port COM5.\n",
      "DEBUG:root:In send_string(): Encoded string: b'B8\\n'\n",
      "DEBUG:root:Answer is: bytearray(b'E060\\r\\n')\n",
      "DEBUG:root:Answer decoded and stripped: \"E060\"\n",
      "DEBUG:root:in call_command_code:\n",
      "\tcommand: B8\n",
      "\t anwser: E060\n",
      "DEBUG:root:in send_command_serial(): sending \"B9\" to serial on port COM5.\n",
      "DEBUG:root:In send_string(): Encoded string: b'B9\\n'\n",
      "DEBUG:root:Answer is: bytearray(b'E060\\r\\n')\n",
      "DEBUG:root:Answer decoded and stripped: \"E060\"\n",
      "DEBUG:root:in call_command_code:\n",
      "\tcommand: B9\n",
      "\t anwser: E060\n"
     ]
    }
   ],
   "source": [
    "flush()\n",
    "im.send_command_serial('c100', wait_for_answer=False)\n",
    "# im.send_command_serial('c200', wait_for_answer=False)\n",
    "for i in range(1, 10):\n",
    "    im.call_command_code(f'B{i}')"
   ]
  },
  {
   "cell_type": "code",
   "execution_count": 73,
   "id": "b6eaab77",
   "metadata": {},
   "outputs": [],
   "source": [
    "im.close_serial()"
   ]
  },
  {
   "cell_type": "code",
   "execution_count": 62,
   "id": "efe49239",
   "metadata": {},
   "outputs": [
    {
     "name": "stderr",
     "output_type": "stream",
     "text": [
      "DEBUG:root:in send_command_serial(): sending \"C003\" to serial on port COM5.\n",
      "DEBUG:root:In send_string(): Encoded string: b'C003\\n'\n",
      "DEBUG:root:Answer is: bytearray(b'A003\\n')\n",
      "DEBUG:root:Answer decoded and stripped: \"A003\"\n",
      "DEBUG:root:in call_command_code:\n",
      "\tcommand: C003\n",
      "\t anwser: A003\n"
     ]
    },
    {
     "data": {
      "text/plain": [
       "'A003'"
      ]
     },
     "execution_count": 62,
     "metadata": {},
     "output_type": "execute_result"
    }
   ],
   "source": [
    "im.reset_motor_control()\n"
   ]
  },
  {
   "cell_type": "code",
   "execution_count": 92,
   "id": "65c238a5",
   "metadata": {},
   "outputs": [
    {
     "name": "stderr",
     "output_type": "stream",
     "text": [
      "DEBUG:root:in send_command_serial(): sending \"C010\" to serial on port COM1.\n",
      "DEBUG:root:In send_string(): Encoded string: b'C010\\n'\n",
      "DEBUG:root:Answer is: bytearray(b'\\rA010 596 100 778 0\\n')\n",
      "DEBUG:root:Answer decoded and stripped: \"A010 596 100 778 0\"\n",
      "DEBUG:root:in call_command_code:\n",
      "\tcommand: C010\n",
      "\t anwser: A010 596 100 778 0\n"
     ]
    },
    {
     "name": "stdout",
     "output_type": "stream",
     "text": [
      "\r",
      "([596, 100, 778], [0])\t (i = 0)\t dt = 0.0230\t 0.023001432418823242"
     ]
    }
   ],
   "source": [
    "# logging.getLogger().setLevel(logging.INFO)\n",
    "\n",
    "    \n",
    "n = 1\n",
    "t0 = time.time()\n",
    "t = time.time()\n",
    "for i in range(n):\n",
    "    p = im.position_query_in_micrometers()\n",
    "    print(f'\\r{p}\\t (i = {i})\\t dt = {time.time() - t:.4f}\\t {time.time() - t0}', end='')\n",
    "    t = time.time()\n",
    "    time.sleep(0.2)\n",
    "    \n",
    "logging.getLogger().setLevel(logging.DEBUG)"
   ]
  },
  {
   "cell_type": "code",
   "execution_count": 91,
   "id": "9e909cf9",
   "metadata": {},
   "outputs": [
    {
     "name": "stdout",
     "output_type": "stream",
     "text": [
      "595 778\n",
      "501.2574188977157\n"
     ]
    }
   ],
   "source": [
    "import math\n",
    "pos, lim = p\n",
    "a, y, c = pos\n",
    "print(a, c)\n",
    "print(math.sqrt(c**2 - a**2))"
   ]
  },
  {
   "cell_type": "code",
   "execution_count": 3,
   "id": "7279b750",
   "metadata": {},
   "outputs": [
    {
     "name": "stdout",
     "output_type": "stream",
     "text": [
      "flushing...\n",
      "bytearray(b'A010\\n')\n",
      "time: 0.0009987354278564453 s\n",
      "\n",
      "time: 0.10999584197998047 s\n",
      "\n",
      "time: 0.10882782936096191 s\n",
      "\n",
      "time: 0.10794234275817871 s\n",
      "\n",
      "time: 0.10763764381408691 s\n"
     ]
    }
   ],
   "source": [
    "\n",
    "\n",
    "print('flushing...')\n",
    "for i in range(5):\n",
    "    t1 = time.time()\n",
    "    print(im.serial_connection.readline())\n",
    "    t2 = time.time()\n",
    "    print(f\"time: {t2-t1} s\")\n",
    "    \n"
   ]
  }
 ],
 "metadata": {
  "kernelspec": {
   "display_name": "Python 3 (ipykernel)",
   "language": "python",
   "name": "python3"
  },
  "language_info": {
   "codemirror_mode": {
    "name": "ipython",
    "version": 3
   },
   "file_extension": ".py",
   "mimetype": "text/x-python",
   "name": "python",
   "nbconvert_exporter": "python",
   "pygments_lexer": "ipython3",
   "version": "3.8.0"
  }
 },
 "nbformat": 4,
 "nbformat_minor": 5
}
